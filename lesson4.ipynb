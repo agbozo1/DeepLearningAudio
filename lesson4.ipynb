{
 "cells": [
  {
   "cell_type": "code",
   "execution_count": 1,
   "metadata": {},
   "outputs": [],
   "source": [
    "import numpy as np\n",
    "from random import random\n",
    "from sklearn.model_selection import train_test_split\n",
    "\n",
    "import tensorflow as tf"
   ]
  },
  {
   "cell_type": "code",
   "execution_count": null,
   "metadata": {},
   "outputs": [],
   "source": [
    "#Task------------\n",
    "\n",
    "#build model\n",
    "\n",
    "#compile model\n",
    "\n",
    "#train model\n",
    "\n",
    "#evaluate model\n",
    "\n",
    "#make predictions"
   ]
  },
  {
   "cell_type": "code",
   "execution_count": 2,
   "metadata": {},
   "outputs": [],
   "source": [
    "#split training and test\n",
    "\n",
    "def generate_dataset(num_samples, test_size):\n",
    "    #dummy dataset\n",
    "    x = np.array([[random() / 2 for _ in range(2)] for _ in range (num_samples)]) #array([[0.1, 0.2], [0.3, 0.4]])\n",
    "    y = np.array([[i[0] + i[1]] for i in x])                         #array([[0.6], [0.7]])\n",
    "\n",
    "    x_train, x_test, y_train, y_test = train_test_split(x, y, test_size=test_size) # pass inputs and outputs\n",
    "    return x_train, x_test, y_train, y_test"
   ]
  },
  {
   "cell_type": "code",
   "execution_count": 3,
   "metadata": {},
   "outputs": [
    {
     "name": "stdout",
     "output_type": "stream",
     "text": [
      "x_test: \n",
      " [[0.08389716 0.10863255]\n",
      " [0.26060081 0.34060955]\n",
      " [0.25789456 0.09459522]\n",
      " ...\n",
      " [0.28104566 0.082955  ]\n",
      " [0.26386772 0.35762743]\n",
      " [0.18617618 0.36905665]]\n",
      "y_test: \n",
      " [[0.19252971]\n",
      " [0.60121036]\n",
      " [0.35248978]\n",
      " ...\n",
      " [0.36400066]\n",
      " [0.62149516]\n",
      " [0.55523283]]\n"
     ]
    }
   ],
   "source": [
    "x_train, x_test, y_train, y_test = generate_dataset(5000, 0.3)\n",
    "\n",
    "print(\"x_test: \\n {}\".format(x_test))\n",
    "print(\"y_test: \\n {}\".format(y_test))"
   ]
  },
  {
   "cell_type": "code",
   "execution_count": 4,
   "metadata": {},
   "outputs": [
    {
     "data": {
      "text/plain": [
       "array([[0.29562642, 0.08660362],\n",
       "       [0.47475097, 0.00464517],\n",
       "       [0.48325011, 0.17660517],\n",
       "       ...,\n",
       "       [0.00722866, 0.34700338],\n",
       "       [0.18246672, 0.32135149],\n",
       "       [0.23365304, 0.30332441]])"
      ]
     },
     "execution_count": 4,
     "metadata": {},
     "output_type": "execute_result"
    }
   ],
   "source": [
    "x_train"
   ]
  },
  {
   "cell_type": "code",
   "execution_count": 7,
   "metadata": {},
   "outputs": [],
   "source": [
    "\n",
    "#building the model\n",
    "\n",
    "#2 neurons input - 5 neurons 1 hidden - 1 neuron output\n",
    "model = tf.keras.Sequential([\n",
    "    tf.keras.layers.Dense(5, input_dim = 2, activation=\"sigmoid\"), #input-hidden\n",
    "    tf.keras.layers.Dense(1, activation=\"sigmoid\")                #output\n",
    "]) #a sequential (L-R model)"
   ]
  },
  {
   "cell_type": "code",
   "execution_count": 8,
   "metadata": {},
   "outputs": [
    {
     "name": "stdout",
     "output_type": "stream",
     "text": [
      "Train on 3500 samples\n",
      "Epoch 1/100\n",
      "3500/3500 [==============================] - 1s 181us/sample - loss: 0.0536\n",
      "Epoch 2/100\n",
      "3500/3500 [==============================] - 0s 113us/sample - loss: 0.0437\n",
      "Epoch 3/100\n",
      "3500/3500 [==============================] - 0s 112us/sample - loss: 0.0434\n",
      "Epoch 4/100\n",
      "3500/3500 [==============================] - 0s 109us/sample - loss: 0.0432\n",
      "Epoch 5/100\n",
      "3500/3500 [==============================] - 1s 189us/sample - loss: 0.0430\n",
      "Epoch 6/100\n",
      "3500/3500 [==============================] - 0s 97us/sample - loss: 0.0428\n",
      "Epoch 7/100\n",
      "3500/3500 [==============================] - 0s 111us/sample - loss: 0.0426\n",
      "Epoch 8/100\n",
      "3500/3500 [==============================] - 0s 84us/sample - loss: 0.0424\n",
      "Epoch 9/100\n",
      "3500/3500 [==============================] - 0s 74us/sample - loss: 0.0422\n",
      "Epoch 10/100\n",
      "3500/3500 [==============================] - 0s 84us/sample - loss: 0.0419\n",
      "Epoch 11/100\n",
      "3500/3500 [==============================] - 0s 56us/sample - loss: 0.0417\n",
      "Epoch 12/100\n",
      "3500/3500 [==============================] - 0s 60us/sample - loss: 0.0415\n",
      "Epoch 13/100\n",
      "3500/3500 [==============================] - 0s 65us/sample - loss: 0.0413\n",
      "Epoch 14/100\n",
      "3500/3500 [==============================] - 0s 76us/sample - loss: 0.0410\n",
      "Epoch 15/100\n",
      "3500/3500 [==============================] - 0s 93us/sample - loss: 0.0408\n",
      "Epoch 16/100\n",
      "3500/3500 [==============================] - 0s 53us/sample - loss: 0.0405\n",
      "Epoch 17/100\n",
      "3500/3500 [==============================] - 0s 50us/sample - loss: 0.0403\n",
      "Epoch 18/100\n",
      "3500/3500 [==============================] - 0s 73us/sample - loss: 0.0400\n",
      "Epoch 19/100\n",
      "3500/3500 [==============================] - 0s 52us/sample - loss: 0.0398\n",
      "Epoch 20/100\n",
      "3500/3500 [==============================] - 0s 52us/sample - loss: 0.0395\n",
      "Epoch 21/100\n",
      "3500/3500 [==============================] - 0s 52us/sample - loss: 0.0392\n",
      "Epoch 22/100\n",
      "3500/3500 [==============================] - 0s 51us/sample - loss: 0.03880s - loss: 0.03\n",
      "Epoch 23/100\n",
      "3500/3500 [==============================] - 0s 50us/sample - loss: 0.0385\n",
      "Epoch 24/100\n",
      "3500/3500 [==============================] - 0s 52us/sample - loss: 0.0382\n",
      "Epoch 25/100\n",
      "3500/3500 [==============================] - 0s 61us/sample - loss: 0.0378\n",
      "Epoch 26/100\n",
      "3500/3500 [==============================] - 0s 50us/sample - loss: 0.0374\n",
      "Epoch 27/100\n",
      "3500/3500 [==============================] - 0s 51us/sample - loss: 0.0370\n",
      "Epoch 28/100\n",
      "3500/3500 [==============================] - 0s 50us/sample - loss: 0.0366\n",
      "Epoch 29/100\n",
      "3500/3500 [==============================] - 0s 51us/sample - loss: 0.0361\n",
      "Epoch 30/100\n",
      "3500/3500 [==============================] - 0s 53us/sample - loss: 0.0357\n",
      "Epoch 31/100\n",
      "3500/3500 [==============================] - 0s 51us/sample - loss: 0.0352\n",
      "Epoch 32/100\n",
      "3500/3500 [==============================] - 0s 51us/sample - loss: 0.0346\n",
      "Epoch 33/100\n",
      "3500/3500 [==============================] - 0s 63us/sample - loss: 0.0341\n",
      "Epoch 34/100\n",
      "3500/3500 [==============================] - 0s 63us/sample - loss: 0.0335\n",
      "Epoch 35/100\n",
      "3500/3500 [==============================] - 0s 63us/sample - loss: 0.0330\n",
      "Epoch 36/100\n",
      "3500/3500 [==============================] - 0s 66us/sample - loss: 0.0323\n",
      "Epoch 37/100\n",
      "3500/3500 [==============================] - 0s 61us/sample - loss: 0.0317\n",
      "Epoch 38/100\n",
      "3500/3500 [==============================] - 0s 57us/sample - loss: 0.0310\n",
      "Epoch 39/100\n",
      "3500/3500 [==============================] - 0s 52us/sample - loss: 0.0304\n",
      "Epoch 40/100\n",
      "3500/3500 [==============================] - 0s 51us/sample - loss: 0.0296\n",
      "Epoch 41/100\n",
      "3500/3500 [==============================] - 0s 55us/sample - loss: 0.0289\n",
      "Epoch 42/100\n",
      "3500/3500 [==============================] - 0s 52us/sample - loss: 0.0282\n",
      "Epoch 43/100\n",
      "3500/3500 [==============================] - 0s 51us/sample - loss: 0.0274\n",
      "Epoch 44/100\n",
      "3500/3500 [==============================] - 0s 53us/sample - loss: 0.0266\n",
      "Epoch 45/100\n",
      "3500/3500 [==============================] - 0s 56us/sample - loss: 0.0258\n",
      "Epoch 46/100\n",
      "3500/3500 [==============================] - 0s 102us/sample - loss: 0.0250\n",
      "Epoch 47/100\n",
      "3500/3500 [==============================] - 0s 53us/sample - loss: 0.0242\n",
      "Epoch 48/100\n",
      "3500/3500 [==============================] - 0s 52us/sample - loss: 0.0233\n",
      "Epoch 49/100\n",
      "3500/3500 [==============================] - 0s 65us/sample - loss: 0.0225\n",
      "Epoch 50/100\n",
      "3500/3500 [==============================] - 0s 103us/sample - loss: 0.0216\n",
      "Epoch 51/100\n",
      "3500/3500 [==============================] - 0s 50us/sample - loss: 0.0208\n",
      "Epoch 52/100\n",
      "3500/3500 [==============================] - 0s 50us/sample - loss: 0.0199\n",
      "Epoch 53/100\n",
      "3500/3500 [==============================] - 0s 49us/sample - loss: 0.0191\n",
      "Epoch 54/100\n",
      "3500/3500 [==============================] - 0s 53us/sample - loss: 0.0182\n",
      "Epoch 55/100\n",
      "3500/3500 [==============================] - 0s 51us/sample - loss: 0.0174\n",
      "Epoch 56/100\n",
      "3500/3500 [==============================] - 0s 49us/sample - loss: 0.0166\n",
      "Epoch 57/100\n",
      "3500/3500 [==============================] - 0s 62us/sample - loss: 0.0158\n",
      "Epoch 58/100\n",
      "3500/3500 [==============================] - 0s 55us/sample - loss: 0.0150\n",
      "Epoch 59/100\n",
      "3500/3500 [==============================] - 0s 54us/sample - loss: 0.0142\n",
      "Epoch 60/100\n",
      "3500/3500 [==============================] - 0s 50us/sample - loss: 0.0135\n",
      "Epoch 61/100\n",
      "3500/3500 [==============================] - 0s 72us/sample - loss: 0.0127\n",
      "Epoch 62/100\n",
      "3500/3500 [==============================] - 0s 48us/sample - loss: 0.0120\n",
      "Epoch 63/100\n",
      "3500/3500 [==============================] - 0s 49us/sample - loss: 0.0113\n",
      "Epoch 64/100\n",
      "3500/3500 [==============================] - 0s 51us/sample - loss: 0.0107\n",
      "Epoch 65/100\n",
      "3500/3500 [==============================] - 0s 49us/sample - loss: 0.0101\n",
      "Epoch 66/100\n",
      "3500/3500 [==============================] - 0s 49us/sample - loss: 0.0095\n",
      "Epoch 67/100\n",
      "3500/3500 [==============================] - 0s 49us/sample - loss: 0.0089\n",
      "Epoch 68/100\n",
      "3500/3500 [==============================] - 0s 49us/sample - loss: 0.0083\n",
      "Epoch 69/100\n",
      "3500/3500 [==============================] - 0s 49us/sample - loss: 0.0078\n",
      "Epoch 70/100\n",
      "3500/3500 [==============================] - 0s 51us/sample - loss: 0.0073\n",
      "Epoch 71/100\n",
      "3500/3500 [==============================] - 0s 49us/sample - loss: 0.0069\n",
      "Epoch 72/100\n",
      "3500/3500 [==============================] - 0s 51us/sample - loss: 0.0064\n",
      "Epoch 73/100\n",
      "3500/3500 [==============================] - 0s 49us/sample - loss: 0.0060\n",
      "Epoch 74/100\n",
      "3500/3500 [==============================] - 0s 83us/sample - loss: 0.0056\n",
      "Epoch 75/100\n",
      "3500/3500 [==============================] - 0s 107us/sample - loss: 0.0053\n",
      "Epoch 76/100\n",
      "3500/3500 [==============================] - 0s 89us/sample - loss: 0.0049\n",
      "Epoch 77/100\n",
      "3500/3500 [==============================] - 1s 153us/sample - loss: 0.0046\n",
      "Epoch 78/100\n",
      "3500/3500 [==============================] - 0s 71us/sample - loss: 0.0043\n",
      "Epoch 79/100\n",
      "3500/3500 [==============================] - 0s 72us/sample - loss: 0.0040\n",
      "Epoch 80/100\n",
      "3500/3500 [==============================] - 0s 49us/sample - loss: 0.0038\n",
      "Epoch 81/100\n",
      "3500/3500 [==============================] - 0s 70us/sample - loss: 0.0035\n",
      "Epoch 82/100\n",
      "3500/3500 [==============================] - 0s 67us/sample - loss: 0.0033\n",
      "Epoch 83/100\n",
      "3500/3500 [==============================] - 0s 52us/sample - loss: 0.0031\n",
      "Epoch 84/100\n",
      "3500/3500 [==============================] - 0s 56us/sample - loss: 0.0029\n",
      "Epoch 85/100\n",
      "3500/3500 [==============================] - 0s 57us/sample - loss: 0.0027\n",
      "Epoch 86/100\n",
      "3500/3500 [==============================] - 0s 54us/sample - loss: 0.0025\n",
      "Epoch 87/100\n",
      "3500/3500 [==============================] - 0s 100us/sample - loss: 0.0024\n",
      "Epoch 88/100\n",
      "3500/3500 [==============================] - 0s 64us/sample - loss: 0.0022\n",
      "Epoch 89/100\n",
      "3500/3500 [==============================] - 0s 49us/sample - loss: 0.0021\n",
      "Epoch 90/100\n",
      "3500/3500 [==============================] - 0s 52us/sample - loss: 0.0020\n",
      "Epoch 91/100\n",
      "3500/3500 [==============================] - 0s 50us/sample - loss: 0.0019\n",
      "Epoch 92/100\n",
      "3500/3500 [==============================] - 0s 49us/sample - loss: 0.0017\n",
      "Epoch 93/100\n"
     ]
    },
    {
     "name": "stdout",
     "output_type": "stream",
     "text": [
      "3500/3500 [==============================] - 0s 51us/sample - loss: 0.0016\n",
      "Epoch 94/100\n",
      "3500/3500 [==============================] - 0s 51us/sample - loss: 0.0016\n",
      "Epoch 95/100\n",
      "3500/3500 [==============================] - 0s 50us/sample - loss: 0.0015\n",
      "Epoch 96/100\n",
      "3500/3500 [==============================] - 0s 50us/sample - loss: 0.0014\n",
      "Epoch 97/100\n",
      "3500/3500 [==============================] - 0s 81us/sample - loss: 0.0013\n",
      "Epoch 98/100\n",
      "3500/3500 [==============================] - 0s 53us/sample - loss: 0.0012\n",
      "Epoch 99/100\n",
      "3500/3500 [==============================] - 0s 51us/sample - loss: 0.0012\n",
      "Epoch 100/100\n",
      "3500/3500 [==============================] - 0s 55us/sample - loss: 0.0011\n"
     ]
    },
    {
     "data": {
      "text/plain": [
       "<tensorflow.python.keras.callbacks.History at 0x10cc9e48>"
      ]
     },
     "execution_count": 8,
     "metadata": {},
     "output_type": "execute_result"
    }
   ],
   "source": [
    "\n",
    "#compile\n",
    "optimiser = tf.keras.optimizers.SGD(learning_rate=0.1)          #stochastic gradient descent\n",
    "model.compile(optimizer=optimiser, loss=\"MSE\")\n",
    "\n",
    "\n",
    "#train\n",
    "model.fit(x_train, y_train, epochs=100)"
   ]
  },
  {
   "cell_type": "code",
   "execution_count": 9,
   "metadata": {},
   "outputs": [
    {
     "name": "stdout",
     "output_type": "stream",
     "text": [
      "\n",
      " Model Evaluation \n",
      "\n",
      "1500/1500 [==============================] - 0s 207us/sample - loss: 9.9191e-04\n"
     ]
    },
    {
     "data": {
      "text/plain": [
       "0.0009919095279183239"
      ]
     },
     "execution_count": 9,
     "metadata": {},
     "output_type": "execute_result"
    }
   ],
   "source": [
    "#evaluate model\n",
    "\n",
    "print(\"\\n Model Evaluation \\n\")\n",
    "\n",
    "model.evaluate(x_test, y_test, verbose=1)"
   ]
  },
  {
   "cell_type": "code",
   "execution_count": 10,
   "metadata": {},
   "outputs": [
    {
     "name": "stdout",
     "output_type": "stream",
     "text": [
      "\n",
      " Some Predictions:\n",
      "0.1 + 0.2 0.3160060942173004\n",
      "0.2 + 0.2 0.4065200090408325\n"
     ]
    }
   ],
   "source": [
    "\n",
    "#predict based on model\n",
    "\n",
    "data = np.array([[0.1, 0.2], [0.2, 0.2]])\n",
    "predictions = model.predict(data)\n",
    "\n",
    "\n",
    "print(\"\\n Some Predictions:\")\n",
    "for d, p in zip(data, predictions):\n",
    "    print(\"{} + {} {}\".format(d[0], d[1], p[0]))\n"
   ]
  }
 ],
 "metadata": {
  "kernelspec": {
   "display_name": "Python 3",
   "language": "python",
   "name": "python3"
  },
  "language_info": {
   "codemirror_mode": {
    "name": "ipython",
    "version": 3
   },
   "file_extension": ".py",
   "mimetype": "text/x-python",
   "name": "python",
   "nbconvert_exporter": "python",
   "pygments_lexer": "ipython3",
   "version": "3.7.7"
  }
 },
 "nbformat": 4,
 "nbformat_minor": 4
}
