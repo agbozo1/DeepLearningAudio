{
 "cells": [
  {
   "cell_type": "code",
   "execution_count": 1,
   "metadata": {},
   "outputs": [],
   "source": [
    "#-----IMPLEMENTING AN ARTIFICIAL NEURON\n",
    "\n",
    "\n",
    "#inputs and weights ---> LISTS\n",
    "inputs = [0.5, 0.3, 0.2]\n",
    "weights = [0.4, 0.7, 0.2]"
   ]
  },
  {
   "cell_type": "code",
   "execution_count": 2,
   "metadata": {},
   "outputs": [],
   "source": [
    "import math\n",
    "\n",
    "#define sigmoid function\n",
    "def sigmoid(x):\n",
    "    y = 1.0 / (1 + math.exp(-x))\n",
    "    return y"
   ]
  },
  {
   "cell_type": "code",
   "execution_count": 6,
   "metadata": {},
   "outputs": [],
   "source": [
    "#define activation function\n",
    "def activate(inputs, weights):         #takes in inputs and weights and outputs a value\n",
    "    \n",
    "    #perform net input\n",
    "    h=0 \n",
    "    for x, w in zip(inputs, weights):  #zip maps x->inputs & w->weights\n",
    "        h = h + (x*w)                  #or h+= x*w\n",
    "    \n",
    "    #perform activation\n",
    "    return sigmoid(h)"
   ]
  },
  {
   "cell_type": "code",
   "execution_count": 5,
   "metadata": {},
   "outputs": [
    {
     "name": "stdout",
     "output_type": "stream",
     "text": [
      "0.610639233949222\n"
     ]
    }
   ],
   "source": [
    "#output\n",
    "\n",
    "output = activate(inputs, weights)\n",
    "\n",
    "print (output)"
   ]
  }
 ],
 "metadata": {
  "kernelspec": {
   "display_name": "Python 3",
   "language": "python",
   "name": "python3"
  },
  "language_info": {
   "codemirror_mode": {
    "name": "ipython",
    "version": 3
   },
   "file_extension": ".py",
   "mimetype": "text/x-python",
   "name": "python",
   "nbconvert_exporter": "python",
   "pygments_lexer": "ipython3",
   "version": "3.7.7"
  }
 },
 "nbformat": 4,
 "nbformat_minor": 4
}
