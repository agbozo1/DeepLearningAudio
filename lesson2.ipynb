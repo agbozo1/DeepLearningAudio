{
 "cells": [
  {
   "cell_type": "code",
   "execution_count": 17,
   "metadata": {},
   "outputs": [],
   "source": [
    "import numpy as np\n",
    "\n",
    "\n",
    "class MLP:\n",
    "    \n",
    "    def __init__(self, num_inputs=3, num_hidden=[3,5], num_outputs=2):\n",
    "        \n",
    "        self.num_inputs = num_inputs\n",
    "        self.num_hidden = num_hidden\n",
    "        self.num_outputs = num_outputs\n",
    "        \n",
    "        \n",
    "        layers = [self.num_inputs] + self.num_hidden + [self.num_outputs]\n",
    "        \n",
    "        #initiate random weights\n",
    "        self.weights = []\n",
    "        \n",
    "        for i in range(len(layers)-1):\n",
    "            w = np.random.rand(layers[i], layers[i+1])               #create a matrix (random arrays - 2 dimensions (row,col))\n",
    "            self.weights.append(w)                                   #store 'w' matrix in a list 'weight'\n",
    "    \n",
    "    \n",
    "   \n",
    "    \n",
    "    #create method for calculation------------------------------------\n",
    "    def forward_propagate(self, inputs):\n",
    "        \n",
    "        #first layer\n",
    "        activation = inputs\n",
    "        \n",
    "        #move to next layer\n",
    "        for w in self.weights:\n",
    "            # calculate the net inputs for a given layer (activation of previous layer * current weight matrices)\n",
    "            net_inputs = np.dot(activation, w)\n",
    "            \n",
    "            #calculate activation\n",
    "            activation = self._sigmoid(net_inputs)\n",
    "        \n",
    "        return activation\n",
    "    \n",
    "    #define sigmoid function\n",
    "    def _sigmoid(self, x): \n",
    "        return 1.0 / (1 + np.exp(-x))\n",
    "    "
   ]
  },
  {
   "cell_type": "code",
   "execution_count": 18,
   "metadata": {},
   "outputs": [
    {
     "name": "stdout",
     "output_type": "stream",
     "text": [
      "The network inputs are: [0.96880112 0.0372876  0.7109388 ]\n",
      "The network output is: [0.91451847 0.86042877]\n"
     ]
    }
   ],
   "source": [
    "if __name__ == \"__main__\":\n",
    "    \n",
    "    #create an MLP - new instance of class\n",
    "    mlp = MLP()\n",
    "    \n",
    "    #create some inputs\n",
    "    inputs = np.random.rand(mlp.num_inputs)\n",
    "    \n",
    "    #perform forward propagation\n",
    "    outputs = mlp.forward_propagate(inputs)\n",
    "    \n",
    "    #print results\n",
    "    print(\"The network inputs are: {}\".format(inputs))\n",
    "    print(\"The network output is: {}\".format(outputs))"
   ]
  }
 ],
 "metadata": {
  "kernelspec": {
   "display_name": "Python 3",
   "language": "python",
   "name": "python3"
  },
  "language_info": {
   "codemirror_mode": {
    "name": "ipython",
    "version": 3
   },
   "file_extension": ".py",
   "mimetype": "text/x-python",
   "name": "python",
   "nbconvert_exporter": "python",
   "pygments_lexer": "ipython3",
   "version": "3.7.7"
  }
 },
 "nbformat": 4,
 "nbformat_minor": 4
}
